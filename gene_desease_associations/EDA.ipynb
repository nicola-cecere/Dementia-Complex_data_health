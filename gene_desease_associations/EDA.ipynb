{
 "cells": [
  {
   "cell_type": "code",
   "execution_count": 18,
   "id": "initial_id",
   "metadata": {
    "collapsed": true,
    "ExecuteTime": {
     "end_time": "2023-12-05T16:00:08.212015Z",
     "start_time": "2023-12-05T16:00:08.183778Z"
    }
   },
   "outputs": [],
   "source": [
    "import pandas as pd\n",
    "\n",
    "# Load the provided TSV files for a list of genes and a summary for each one\n",
    "file_path_summary = '../gene_desease_associations/C0497327_disease_gda_summary.tsv'\n",
    "file_path_evidences = '../gene_desease_associations/C0497327_disease_gda_evidences.tsv'\n",
    "\n",
    "# Reading the TSV files\n",
    "genes_summary = pd.read_csv(file_path_summary, sep='\\t')\n",
    "genes_evidences = pd.read_csv(file_path_evidences, sep='\\t')\n",
    "\n",
    "genes_summary = pd.DataFrame(genes_summary)\n",
    "genes_evidences = pd.DataFrame(genes_evidences)"
   ]
  },
  {
   "cell_type": "code",
   "execution_count": 19,
   "outputs": [
    {
     "data": {
      "text/plain": "    Disease Disease_id    Gene  Gene_id  Score_gda  Association_Type   Type  \\\n0  Dementia   C0497327  IGFALS     3483        0.1         Biomarker    NaN   \n1  Dementia   C0497327    PRNP     5621        0.5  GeneticVariation    NaN   \n2  Dementia   C0497327    APOE      348        0.2  GeneticVariation    NaN   \n3  Dementia   C0497327   ITM2B     9445        0.2         Biomarker    NaN   \n4  Dementia   C0497327    APOE      348        0.2  GeneticVariation    NaN   \n\n  Original_DB                                           Sentence        PMID  \\\n0      BEFREE  Attention is drawn to the similarities between...   7431026.0   \n1      BEFREE  In contrast, a recent case with proven <span c...   8520719.0   \n2      BEFREE  In multivariate models adjusted for age, educa...  20625087.0   \n3      BEFREE  In a British family, mutation of the terminati...  16246057.0   \n4      BEFREE  Association of the epsilon 4 allele of <span c...   9086316.0   \n\n   PMID_Year  \n0     1980.0  \n1     1995.0  \n2     2010.0  \n3     2005.0  \n4     1996.0  ",
      "text/html": "<div>\n<style scoped>\n    .dataframe tbody tr th:only-of-type {\n        vertical-align: middle;\n    }\n\n    .dataframe tbody tr th {\n        vertical-align: top;\n    }\n\n    .dataframe thead th {\n        text-align: right;\n    }\n</style>\n<table border=\"1\" class=\"dataframe\">\n  <thead>\n    <tr style=\"text-align: right;\">\n      <th></th>\n      <th>Disease</th>\n      <th>Disease_id</th>\n      <th>Gene</th>\n      <th>Gene_id</th>\n      <th>Score_gda</th>\n      <th>Association_Type</th>\n      <th>Type</th>\n      <th>Original_DB</th>\n      <th>Sentence</th>\n      <th>PMID</th>\n      <th>PMID_Year</th>\n    </tr>\n  </thead>\n  <tbody>\n    <tr>\n      <th>0</th>\n      <td>Dementia</td>\n      <td>C0497327</td>\n      <td>IGFALS</td>\n      <td>3483</td>\n      <td>0.1</td>\n      <td>Biomarker</td>\n      <td>NaN</td>\n      <td>BEFREE</td>\n      <td>Attention is drawn to the similarities between...</td>\n      <td>7431026.0</td>\n      <td>1980.0</td>\n    </tr>\n    <tr>\n      <th>1</th>\n      <td>Dementia</td>\n      <td>C0497327</td>\n      <td>PRNP</td>\n      <td>5621</td>\n      <td>0.5</td>\n      <td>GeneticVariation</td>\n      <td>NaN</td>\n      <td>BEFREE</td>\n      <td>In contrast, a recent case with proven &lt;span c...</td>\n      <td>8520719.0</td>\n      <td>1995.0</td>\n    </tr>\n    <tr>\n      <th>2</th>\n      <td>Dementia</td>\n      <td>C0497327</td>\n      <td>APOE</td>\n      <td>348</td>\n      <td>0.2</td>\n      <td>GeneticVariation</td>\n      <td>NaN</td>\n      <td>BEFREE</td>\n      <td>In multivariate models adjusted for age, educa...</td>\n      <td>20625087.0</td>\n      <td>2010.0</td>\n    </tr>\n    <tr>\n      <th>3</th>\n      <td>Dementia</td>\n      <td>C0497327</td>\n      <td>ITM2B</td>\n      <td>9445</td>\n      <td>0.2</td>\n      <td>Biomarker</td>\n      <td>NaN</td>\n      <td>BEFREE</td>\n      <td>In a British family, mutation of the terminati...</td>\n      <td>16246057.0</td>\n      <td>2005.0</td>\n    </tr>\n    <tr>\n      <th>4</th>\n      <td>Dementia</td>\n      <td>C0497327</td>\n      <td>APOE</td>\n      <td>348</td>\n      <td>0.2</td>\n      <td>GeneticVariation</td>\n      <td>NaN</td>\n      <td>BEFREE</td>\n      <td>Association of the epsilon 4 allele of &lt;span c...</td>\n      <td>9086316.0</td>\n      <td>1996.0</td>\n    </tr>\n  </tbody>\n</table>\n</div>"
     },
     "execution_count": 19,
     "metadata": {},
     "output_type": "execute_result"
    }
   ],
   "source": [
    "genes_evidences.head()"
   ],
   "metadata": {
    "collapsed": false,
    "ExecuteTime": {
     "end_time": "2023-12-05T16:00:09.152227Z",
     "start_time": "2023-12-05T16:00:09.146068Z"
    }
   },
   "id": "a4926eca49ef9b7e"
  },
  {
   "cell_type": "code",
   "execution_count": 20,
   "outputs": [
    {
     "name": "stdout",
     "output_type": "stream",
     "text": [
      "Association_Type\n",
      "Biomarker                        1545\n",
      "GeneticVariation                 1224\n",
      "AlteredExpression                 242\n",
      "PosttranslationalModification       6\n",
      "CausalMutation                      4\n",
      "SusceptibilityMutation              1\n",
      "Name: count, dtype: int64\n"
     ]
    }
   ],
   "source": [
    "unique_gene_counts = genes_evidences['Association_Type'].value_counts()\n",
    "print(unique_gene_counts)"
   ],
   "metadata": {
    "collapsed": false,
    "ExecuteTime": {
     "end_time": "2023-12-05T16:00:09.708170Z",
     "start_time": "2023-12-05T16:00:09.704981Z"
    }
   },
   "id": "e69e1a9663b02d8e"
  },
  {
   "cell_type": "code",
   "execution_count": 21,
   "outputs": [
    {
     "data": {
      "text/plain": "                                Gene               Association_Type  \\\nAssociation_Type                                                      \nAlteredExpression              TREM2              AlteredExpression   \nBiomarker                        APP                      Biomarker   \nCausalMutation                  MAPT                 CausalMutation   \nGeneticVariation                 APP               GeneticVariation   \nPosttranslationalModification   BDNF  PosttranslationalModification   \nSusceptibilityMutation           GBA         SusceptibilityMutation   \n\n                               Score_gda  \\\nAssociation_Type                           \nAlteredExpression                   0.70   \nBiomarker                           0.70   \nCausalMutation                      0.50   \nGeneticVariation                    0.70   \nPosttranslationalModification       0.10   \nSusceptibilityMutation              0.16   \n\n                                                                        Sentence  \nAssociation_Type                                                                  \nAlteredExpression              The selective expression of <span class=\"gene\"...  \nBiomarker                      Also problematic is the alternative hypothesis...  \nCausalMutation                                                               NaN  \nGeneticVariation               The most common familial early onset <span cla...  \nPosttranslationalModification  Multivariable logistic regression analyses det...  \nSusceptibilityMutation                                                       NaN  ",
      "text/html": "<div>\n<style scoped>\n    .dataframe tbody tr th:only-of-type {\n        vertical-align: middle;\n    }\n\n    .dataframe tbody tr th {\n        vertical-align: top;\n    }\n\n    .dataframe thead th {\n        text-align: right;\n    }\n</style>\n<table border=\"1\" class=\"dataframe\">\n  <thead>\n    <tr style=\"text-align: right;\">\n      <th></th>\n      <th>Gene</th>\n      <th>Association_Type</th>\n      <th>Score_gda</th>\n      <th>Sentence</th>\n    </tr>\n    <tr>\n      <th>Association_Type</th>\n      <th></th>\n      <th></th>\n      <th></th>\n      <th></th>\n    </tr>\n  </thead>\n  <tbody>\n    <tr>\n      <th>AlteredExpression</th>\n      <td>TREM2</td>\n      <td>AlteredExpression</td>\n      <td>0.70</td>\n      <td>The selective expression of &lt;span class=\"gene\"...</td>\n    </tr>\n    <tr>\n      <th>Biomarker</th>\n      <td>APP</td>\n      <td>Biomarker</td>\n      <td>0.70</td>\n      <td>Also problematic is the alternative hypothesis...</td>\n    </tr>\n    <tr>\n      <th>CausalMutation</th>\n      <td>MAPT</td>\n      <td>CausalMutation</td>\n      <td>0.50</td>\n      <td>NaN</td>\n    </tr>\n    <tr>\n      <th>GeneticVariation</th>\n      <td>APP</td>\n      <td>GeneticVariation</td>\n      <td>0.70</td>\n      <td>The most common familial early onset &lt;span cla...</td>\n    </tr>\n    <tr>\n      <th>PosttranslationalModification</th>\n      <td>BDNF</td>\n      <td>PosttranslationalModification</td>\n      <td>0.10</td>\n      <td>Multivariable logistic regression analyses det...</td>\n    </tr>\n    <tr>\n      <th>SusceptibilityMutation</th>\n      <td>GBA</td>\n      <td>SusceptibilityMutation</td>\n      <td>0.16</td>\n      <td>NaN</td>\n    </tr>\n  </tbody>\n</table>\n</div>"
     },
     "execution_count": 21,
     "metadata": {},
     "output_type": "execute_result"
    }
   ],
   "source": [
    "def find_max_score_gda(group):\n",
    "    return group.loc[group['Score_gda'].idxmax()]\n",
    "\n",
    "# Group by 'Association_type' and apply the function to each group\n",
    "max_score_per_association = genes_evidences.groupby('Association_Type').apply(find_max_score_gda)\n",
    "\n",
    "# Select only the required columns\n",
    "max_score_per_association = max_score_per_association[['Gene', 'Association_Type', 'Score_gda', 'Sentence']]\n",
    "\n",
    "# Create Data Frame\n",
    "genes = pd.DataFrame(max_score_per_association)\n",
    "genes"
   ],
   "metadata": {
    "collapsed": false,
    "ExecuteTime": {
     "end_time": "2023-12-05T16:00:10.250001Z",
     "start_time": "2023-12-05T16:00:10.233633Z"
    }
   },
   "id": "eb8210dcc6d10fa"
  },
  {
   "cell_type": "code",
   "execution_count": 52,
   "outputs": [
    {
     "data": {
      "text/plain": "       Disease Disease_id   Gene  Gene_id  Score_gda  Association_Type   Type  \\\n1895  Dementia   C0497327    APP      351        0.7  GeneticVariation    NaN   \n625   Dementia   C0497327  TREM2    54209        0.7         Biomarker    NaN   \n1     Dementia   C0497327   PRNP     5621        0.5  GeneticVariation    NaN   \n1516  Dementia   C0497327   MAPT     4137        0.5         Biomarker    NaN   \n1616  Dementia   C0497327    GRN     2896        0.5  GeneticVariation    NaN   \n\n     Original_DB                                           Sentence  \\\n1895      BEFREE  We found a novel <span class=\"gene\" id=\"227279...   \n625          HPO                                                NaN   \n1         BEFREE  In contrast, a recent case with proven <span c...   \n1516      BEFREE  Frontotemporal dementia and parkinsonism linke...   \n1616      BEFREE  Heterozygous mutations in <span class=\"gene\" i...   \n\n            PMID  PMID_Year  \n1895  22727994.0     2012.0  \n625          NaN        NaN  \n1      8520719.0     1995.0  \n1516  20178834.0     2010.0  \n1616  22608501.0     2012.0  ",
      "text/html": "<div>\n<style scoped>\n    .dataframe tbody tr th:only-of-type {\n        vertical-align: middle;\n    }\n\n    .dataframe tbody tr th {\n        vertical-align: top;\n    }\n\n    .dataframe thead th {\n        text-align: right;\n    }\n</style>\n<table border=\"1\" class=\"dataframe\">\n  <thead>\n    <tr style=\"text-align: right;\">\n      <th></th>\n      <th>Disease</th>\n      <th>Disease_id</th>\n      <th>Gene</th>\n      <th>Gene_id</th>\n      <th>Score_gda</th>\n      <th>Association_Type</th>\n      <th>Type</th>\n      <th>Original_DB</th>\n      <th>Sentence</th>\n      <th>PMID</th>\n      <th>PMID_Year</th>\n    </tr>\n  </thead>\n  <tbody>\n    <tr>\n      <th>1895</th>\n      <td>Dementia</td>\n      <td>C0497327</td>\n      <td>APP</td>\n      <td>351</td>\n      <td>0.7</td>\n      <td>GeneticVariation</td>\n      <td>NaN</td>\n      <td>BEFREE</td>\n      <td>We found a novel &lt;span class=\"gene\" id=\"227279...</td>\n      <td>22727994.0</td>\n      <td>2012.0</td>\n    </tr>\n    <tr>\n      <th>625</th>\n      <td>Dementia</td>\n      <td>C0497327</td>\n      <td>TREM2</td>\n      <td>54209</td>\n      <td>0.7</td>\n      <td>Biomarker</td>\n      <td>NaN</td>\n      <td>HPO</td>\n      <td>NaN</td>\n      <td>NaN</td>\n      <td>NaN</td>\n    </tr>\n    <tr>\n      <th>1</th>\n      <td>Dementia</td>\n      <td>C0497327</td>\n      <td>PRNP</td>\n      <td>5621</td>\n      <td>0.5</td>\n      <td>GeneticVariation</td>\n      <td>NaN</td>\n      <td>BEFREE</td>\n      <td>In contrast, a recent case with proven &lt;span c...</td>\n      <td>8520719.0</td>\n      <td>1995.0</td>\n    </tr>\n    <tr>\n      <th>1516</th>\n      <td>Dementia</td>\n      <td>C0497327</td>\n      <td>MAPT</td>\n      <td>4137</td>\n      <td>0.5</td>\n      <td>Biomarker</td>\n      <td>NaN</td>\n      <td>BEFREE</td>\n      <td>Frontotemporal dementia and parkinsonism linke...</td>\n      <td>20178834.0</td>\n      <td>2010.0</td>\n    </tr>\n    <tr>\n      <th>1616</th>\n      <td>Dementia</td>\n      <td>C0497327</td>\n      <td>GRN</td>\n      <td>2896</td>\n      <td>0.5</td>\n      <td>GeneticVariation</td>\n      <td>NaN</td>\n      <td>BEFREE</td>\n      <td>Heterozygous mutations in &lt;span class=\"gene\" i...</td>\n      <td>22608501.0</td>\n      <td>2012.0</td>\n    </tr>\n  </tbody>\n</table>\n</div>"
     },
     "execution_count": 52,
     "metadata": {},
     "output_type": "execute_result"
    }
   ],
   "source": [
    "# Filter rows\n",
    "filtered_genes = genes_evidences[genes_evidences['Score_gda'] == 0.7]\n",
    "\n",
    "# Sort the DataFrame by 'Score_gda' in descending order\n",
    "sorted_genes = genes_evidences.sort_values(by='Score_gda', ascending=False)\n",
    "\n",
    "# Drop duplicates in 'Gene' column to ensure different genes\n",
    "unique_genes = sorted_genes.drop_duplicates(subset=['Gene'])\n",
    "\n",
    "# Get the first 5 rows\n",
    "unique_genes.head(5)"
   ],
   "metadata": {
    "collapsed": false,
    "ExecuteTime": {
     "end_time": "2023-12-05T17:05:32.848513Z",
     "start_time": "2023-12-05T17:05:32.831830Z"
    }
   },
   "id": "22b8b7be5e932de1"
  },
  {
   "cell_type": "code",
   "execution_count": 53,
   "outputs": [
    {
     "data": {
      "text/plain": "       Disease Disease_id   Gene  Gene_id  Score_gda   Association_Type  \\\n1     Dementia   C0497327   PRNP     5621        0.5   GeneticVariation   \n17    Dementia   C0497327   MAPT     4137        0.5          Biomarker   \n18    Dementia   C0497327   MAPT     4137        0.5          Biomarker   \n20    Dementia   C0497327    APP      351        0.7   GeneticVariation   \n22    Dementia   C0497327  TREM2    54209        0.7  AlteredExpression   \n...        ...        ...    ...      ...        ...                ...   \n2985  Dementia   C0497327    APP      351        0.7          Biomarker   \n2987  Dementia   C0497327    APP      351        0.7   GeneticVariation   \n3002  Dementia   C0497327   MAPT     4137        0.5   GeneticVariation   \n3006  Dementia   C0497327    APP      351        0.7          Biomarker   \n3020  Dementia   C0497327   MAPT     4137        0.5   GeneticVariation   \n\n       Type Original_DB                                           Sentence  \\\n1       NaN      BEFREE  In contrast, a recent case with proven <span c...   \n17      NaN      BEFREE  <span class=\"disease\" id=\"27792010-1-0-8\">Deme...   \n18      NaN      BEFREE  The transition of <span class=\"gene\" id=\"31456...   \n20      NaN      BEFREE  The most common familial early onset <span cla...   \n22      NaN      BEFREE  The selective expression of <span class=\"gene\"...   \n...     ...         ...                                                ...   \n2985    NaN      BEFREE  These results suggest that s<span class=\"gene\"...   \n2987    NaN      BEFREE  Overexpression of DSCAM in Down syndrome (DS) ...   \n3002    NaN       LHGDN  Novel G335V mutation in the tau gene associate...   \n3006    NaN       LHGDN  Association between progranulin and beta-amylo...   \n3020    NaN      BEFREE  <span class=\"disease\" id=\"21593513-12-0-8\">Dem...   \n\n            PMID  PMID_Year  \n1      8520719.0     1995.0  \n17    27792010.0     2017.0  \n18    31456657.0     2019.0  \n20    15258222.0     2004.0  \n22    26694609.0     2016.0  \n...          ...        ...  \n2985  22170863.0     2012.0  \n2987  21241773.0     2011.0  \n3002  15765246.0     2005.0  \n3006  18955727.0     2009.0  \n3020  21593513.0     2011.0  \n\n[338 rows x 11 columns]",
      "text/html": "<div>\n<style scoped>\n    .dataframe tbody tr th:only-of-type {\n        vertical-align: middle;\n    }\n\n    .dataframe tbody tr th {\n        vertical-align: top;\n    }\n\n    .dataframe thead th {\n        text-align: right;\n    }\n</style>\n<table border=\"1\" class=\"dataframe\">\n  <thead>\n    <tr style=\"text-align: right;\">\n      <th></th>\n      <th>Disease</th>\n      <th>Disease_id</th>\n      <th>Gene</th>\n      <th>Gene_id</th>\n      <th>Score_gda</th>\n      <th>Association_Type</th>\n      <th>Type</th>\n      <th>Original_DB</th>\n      <th>Sentence</th>\n      <th>PMID</th>\n      <th>PMID_Year</th>\n    </tr>\n  </thead>\n  <tbody>\n    <tr>\n      <th>1</th>\n      <td>Dementia</td>\n      <td>C0497327</td>\n      <td>PRNP</td>\n      <td>5621</td>\n      <td>0.5</td>\n      <td>GeneticVariation</td>\n      <td>NaN</td>\n      <td>BEFREE</td>\n      <td>In contrast, a recent case with proven &lt;span c...</td>\n      <td>8520719.0</td>\n      <td>1995.0</td>\n    </tr>\n    <tr>\n      <th>17</th>\n      <td>Dementia</td>\n      <td>C0497327</td>\n      <td>MAPT</td>\n      <td>4137</td>\n      <td>0.5</td>\n      <td>Biomarker</td>\n      <td>NaN</td>\n      <td>BEFREE</td>\n      <td>&lt;span class=\"disease\" id=\"27792010-1-0-8\"&gt;Deme...</td>\n      <td>27792010.0</td>\n      <td>2017.0</td>\n    </tr>\n    <tr>\n      <th>18</th>\n      <td>Dementia</td>\n      <td>C0497327</td>\n      <td>MAPT</td>\n      <td>4137</td>\n      <td>0.5</td>\n      <td>Biomarker</td>\n      <td>NaN</td>\n      <td>BEFREE</td>\n      <td>The transition of &lt;span class=\"gene\" id=\"31456...</td>\n      <td>31456657.0</td>\n      <td>2019.0</td>\n    </tr>\n    <tr>\n      <th>20</th>\n      <td>Dementia</td>\n      <td>C0497327</td>\n      <td>APP</td>\n      <td>351</td>\n      <td>0.7</td>\n      <td>GeneticVariation</td>\n      <td>NaN</td>\n      <td>BEFREE</td>\n      <td>The most common familial early onset &lt;span cla...</td>\n      <td>15258222.0</td>\n      <td>2004.0</td>\n    </tr>\n    <tr>\n      <th>22</th>\n      <td>Dementia</td>\n      <td>C0497327</td>\n      <td>TREM2</td>\n      <td>54209</td>\n      <td>0.7</td>\n      <td>AlteredExpression</td>\n      <td>NaN</td>\n      <td>BEFREE</td>\n      <td>The selective expression of &lt;span class=\"gene\"...</td>\n      <td>26694609.0</td>\n      <td>2016.0</td>\n    </tr>\n    <tr>\n      <th>...</th>\n      <td>...</td>\n      <td>...</td>\n      <td>...</td>\n      <td>...</td>\n      <td>...</td>\n      <td>...</td>\n      <td>...</td>\n      <td>...</td>\n      <td>...</td>\n      <td>...</td>\n      <td>...</td>\n    </tr>\n    <tr>\n      <th>2985</th>\n      <td>Dementia</td>\n      <td>C0497327</td>\n      <td>APP</td>\n      <td>351</td>\n      <td>0.7</td>\n      <td>Biomarker</td>\n      <td>NaN</td>\n      <td>BEFREE</td>\n      <td>These results suggest that s&lt;span class=\"gene\"...</td>\n      <td>22170863.0</td>\n      <td>2012.0</td>\n    </tr>\n    <tr>\n      <th>2987</th>\n      <td>Dementia</td>\n      <td>C0497327</td>\n      <td>APP</td>\n      <td>351</td>\n      <td>0.7</td>\n      <td>GeneticVariation</td>\n      <td>NaN</td>\n      <td>BEFREE</td>\n      <td>Overexpression of DSCAM in Down syndrome (DS) ...</td>\n      <td>21241773.0</td>\n      <td>2011.0</td>\n    </tr>\n    <tr>\n      <th>3002</th>\n      <td>Dementia</td>\n      <td>C0497327</td>\n      <td>MAPT</td>\n      <td>4137</td>\n      <td>0.5</td>\n      <td>GeneticVariation</td>\n      <td>NaN</td>\n      <td>LHGDN</td>\n      <td>Novel G335V mutation in the tau gene associate...</td>\n      <td>15765246.0</td>\n      <td>2005.0</td>\n    </tr>\n    <tr>\n      <th>3006</th>\n      <td>Dementia</td>\n      <td>C0497327</td>\n      <td>APP</td>\n      <td>351</td>\n      <td>0.7</td>\n      <td>Biomarker</td>\n      <td>NaN</td>\n      <td>LHGDN</td>\n      <td>Association between progranulin and beta-amylo...</td>\n      <td>18955727.0</td>\n      <td>2009.0</td>\n    </tr>\n    <tr>\n      <th>3020</th>\n      <td>Dementia</td>\n      <td>C0497327</td>\n      <td>MAPT</td>\n      <td>4137</td>\n      <td>0.5</td>\n      <td>GeneticVariation</td>\n      <td>NaN</td>\n      <td>BEFREE</td>\n      <td>&lt;span class=\"disease\" id=\"21593513-12-0-8\"&gt;Dem...</td>\n      <td>21593513.0</td>\n      <td>2011.0</td>\n    </tr>\n  </tbody>\n</table>\n<p>338 rows × 11 columns</p>\n</div>"
     },
     "execution_count": 53,
     "metadata": {},
     "output_type": "execute_result"
    }
   ],
   "source": [
    "gene_names = ['TREM2', 'APP', 'PRNP', 'MAPT', 'GRN']\n",
    "\n",
    "sentences = genes_evidences[genes_evidences['Gene'].isin(gene_names)]\n",
    "\n",
    "sentences = pd.DataFrame(sentences)\n",
    "sentences"
   ],
   "metadata": {
    "collapsed": false,
    "ExecuteTime": {
     "end_time": "2023-12-05T17:05:45.667333Z",
     "start_time": "2023-12-05T17:05:45.662230Z"
    }
   },
   "id": "507751399a832234"
  },
  {
   "cell_type": "code",
   "execution_count": 56,
   "outputs": [
    {
     "data": {
      "text/plain": "    Disease Disease_id   Gene  Gene_id        UniProt  \\\n0  Dementia   C0497327  TREM2    54209         Q9NZC2   \n1  Dementia   C0497327    APP      351         P05067   \n3  Dementia   C0497327    GRN     2896         P28799   \n4  Dementia   C0497327   PRNP     5621  F7VJQ1;P04156   \n5  Dementia   C0497327   MAPT     4137         P10636   \n\n                                     Gene_Full_Name     Protein_Class  \\\n0  triggering receptor expressed on myeloid cells 2               NaN   \n1                    amyloid beta precursor protein  Enzyme modulator   \n3                                granulin precursor               NaN   \n4                                     prion protein               NaN   \n5                microtubule associated protein tau               NaN   \n\n   N_diseases_g  DSI_g  DPI_g           pLI  Score_gda  EL_gda  EI_gda  \\\n0           239  0.519  0.769  3.289200e-09        0.7  strong   1.000   \n1           485  0.422  0.846  4.654400e-02        0.7  strong   0.964   \n3           412  0.435  0.846  6.966600e-02        0.5     NaN   1.000   \n4           426  0.445  0.923  6.318200e-04        0.5  strong   0.958   \n5           469  0.446  0.923  6.025800e-03        0.5     NaN   0.992   \n\n   N_PMIDs  N_SNPs_gda  First_Ref  Last_Ref  \n0       19           5     2005.0    2020.0  \n1       83          10     1993.0    2020.0  \n3       46           4     2006.0    2019.0  \n4       48           4     1991.0    2019.0  \n5      127          13     1995.0    2020.0  ",
      "text/html": "<div>\n<style scoped>\n    .dataframe tbody tr th:only-of-type {\n        vertical-align: middle;\n    }\n\n    .dataframe tbody tr th {\n        vertical-align: top;\n    }\n\n    .dataframe thead th {\n        text-align: right;\n    }\n</style>\n<table border=\"1\" class=\"dataframe\">\n  <thead>\n    <tr style=\"text-align: right;\">\n      <th></th>\n      <th>Disease</th>\n      <th>Disease_id</th>\n      <th>Gene</th>\n      <th>Gene_id</th>\n      <th>UniProt</th>\n      <th>Gene_Full_Name</th>\n      <th>Protein_Class</th>\n      <th>N_diseases_g</th>\n      <th>DSI_g</th>\n      <th>DPI_g</th>\n      <th>pLI</th>\n      <th>Score_gda</th>\n      <th>EL_gda</th>\n      <th>EI_gda</th>\n      <th>N_PMIDs</th>\n      <th>N_SNPs_gda</th>\n      <th>First_Ref</th>\n      <th>Last_Ref</th>\n    </tr>\n  </thead>\n  <tbody>\n    <tr>\n      <th>0</th>\n      <td>Dementia</td>\n      <td>C0497327</td>\n      <td>TREM2</td>\n      <td>54209</td>\n      <td>Q9NZC2</td>\n      <td>triggering receptor expressed on myeloid cells 2</td>\n      <td>NaN</td>\n      <td>239</td>\n      <td>0.519</td>\n      <td>0.769</td>\n      <td>3.289200e-09</td>\n      <td>0.7</td>\n      <td>strong</td>\n      <td>1.000</td>\n      <td>19</td>\n      <td>5</td>\n      <td>2005.0</td>\n      <td>2020.0</td>\n    </tr>\n    <tr>\n      <th>1</th>\n      <td>Dementia</td>\n      <td>C0497327</td>\n      <td>APP</td>\n      <td>351</td>\n      <td>P05067</td>\n      <td>amyloid beta precursor protein</td>\n      <td>Enzyme modulator</td>\n      <td>485</td>\n      <td>0.422</td>\n      <td>0.846</td>\n      <td>4.654400e-02</td>\n      <td>0.7</td>\n      <td>strong</td>\n      <td>0.964</td>\n      <td>83</td>\n      <td>10</td>\n      <td>1993.0</td>\n      <td>2020.0</td>\n    </tr>\n    <tr>\n      <th>3</th>\n      <td>Dementia</td>\n      <td>C0497327</td>\n      <td>GRN</td>\n      <td>2896</td>\n      <td>P28799</td>\n      <td>granulin precursor</td>\n      <td>NaN</td>\n      <td>412</td>\n      <td>0.435</td>\n      <td>0.846</td>\n      <td>6.966600e-02</td>\n      <td>0.5</td>\n      <td>NaN</td>\n      <td>1.000</td>\n      <td>46</td>\n      <td>4</td>\n      <td>2006.0</td>\n      <td>2019.0</td>\n    </tr>\n    <tr>\n      <th>4</th>\n      <td>Dementia</td>\n      <td>C0497327</td>\n      <td>PRNP</td>\n      <td>5621</td>\n      <td>F7VJQ1;P04156</td>\n      <td>prion protein</td>\n      <td>NaN</td>\n      <td>426</td>\n      <td>0.445</td>\n      <td>0.923</td>\n      <td>6.318200e-04</td>\n      <td>0.5</td>\n      <td>strong</td>\n      <td>0.958</td>\n      <td>48</td>\n      <td>4</td>\n      <td>1991.0</td>\n      <td>2019.0</td>\n    </tr>\n    <tr>\n      <th>5</th>\n      <td>Dementia</td>\n      <td>C0497327</td>\n      <td>MAPT</td>\n      <td>4137</td>\n      <td>P10636</td>\n      <td>microtubule associated protein tau</td>\n      <td>NaN</td>\n      <td>469</td>\n      <td>0.446</td>\n      <td>0.923</td>\n      <td>6.025800e-03</td>\n      <td>0.5</td>\n      <td>NaN</td>\n      <td>0.992</td>\n      <td>127</td>\n      <td>13</td>\n      <td>1995.0</td>\n      <td>2020.0</td>\n    </tr>\n  </tbody>\n</table>\n</div>"
     },
     "execution_count": 56,
     "metadata": {},
     "output_type": "execute_result"
    }
   ],
   "source": [
    "# Extract rows where the 'Gene' column matches any of the genes in genes_of_interest\n",
    "summaries = genes_summary[genes_summary['Gene'].isin(gene_names)]\n",
    "summaries"
   ],
   "metadata": {
    "collapsed": false,
    "ExecuteTime": {
     "end_time": "2023-12-05T17:07:36.892952Z",
     "start_time": "2023-12-05T17:07:36.889529Z"
    }
   },
   "id": "536898e9ae221769"
  }
 ],
 "metadata": {
  "kernelspec": {
   "display_name": "Python 3",
   "language": "python",
   "name": "python3"
  },
  "language_info": {
   "codemirror_mode": {
    "name": "ipython",
    "version": 2
   },
   "file_extension": ".py",
   "mimetype": "text/x-python",
   "name": "python",
   "nbconvert_exporter": "python",
   "pygments_lexer": "ipython2",
   "version": "2.7.6"
  }
 },
 "nbformat": 4,
 "nbformat_minor": 5
}
