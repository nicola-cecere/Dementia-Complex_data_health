{
 "cells": [
  {
   "cell_type": "code",
   "execution_count": 4,
   "id": "initial_id",
   "metadata": {
    "collapsed": true,
    "ExecuteTime": {
     "end_time": "2023-12-07T11:57:12.938835Z",
     "start_time": "2023-12-07T11:57:12.925745Z"
    }
   },
   "outputs": [],
   "source": [
    "import numpy as np\n",
    "import pandas as pd\n",
    "\n",
    "import networkx as nx\n",
    "\n",
    "import seaborn as sns\n",
    "import matplotlib.pylab as plt\n",
    "\n",
    "import sys\n",
    "sys.path.append('scripts')\n",
    "\n",
    "import localization\n",
    "import separation\n",
    "from preprocessing import preprocess_disease"
   ]
  },
  {
   "cell_type": "code",
   "execution_count": 5,
   "outputs": [],
   "source": [
    "ppi_file = 'data/ppi.csv'\n",
    "dga_file = \"data/disease_gene.tsv\"\n",
    "\n",
    "dga, ppi = preprocess_disease(ppi_file, dga_file)"
   ],
   "metadata": {
    "collapsed": false,
    "ExecuteTime": {
     "end_time": "2023-12-07T11:57:14.301370Z",
     "start_time": "2023-12-07T11:57:14.006985Z"
    }
   },
   "id": "6a687be8e2e87eec"
  },
  {
   "cell_type": "code",
   "execution_count": 9,
   "outputs": [],
   "source": [
    "dmt = dga[dga.diseaseName == 'dementia']"
   ],
   "metadata": {
    "collapsed": false,
    "ExecuteTime": {
     "end_time": "2023-12-07T11:58:57.342776Z",
     "start_time": "2023-12-07T11:58:57.332800Z"
    }
   },
   "id": "602b388e69570dd3"
  },
  {
   "cell_type": "code",
   "execution_count": 10,
   "outputs": [
    {
     "data": {
      "text/plain": "      geneSymbol diseaseName\n35403        APP    dementia\n35404     COL4A1    dementia\n35405         CP    dementia\n35406      CSF1R    dementia\n35407       CST3    dementia\n35408      DNMT1    dementia\n35409        FUS    dementia\n35410        GRN    dementia\n35411       MAPT    dementia\n35412     NOTCH3    dementia\n35413       PRNP    dementia\n35414      HTRA1    dementia\n35415      PSEN2    dementia\n35416     SLC6A3    dementia\n35417     TYROBP    dementia\n35418     SLC9A8    dementia\n35419      TREM2    dementia",
      "text/html": "<div>\n<style scoped>\n    .dataframe tbody tr th:only-of-type {\n        vertical-align: middle;\n    }\n\n    .dataframe tbody tr th {\n        vertical-align: top;\n    }\n\n    .dataframe thead th {\n        text-align: right;\n    }\n</style>\n<table border=\"1\" class=\"dataframe\">\n  <thead>\n    <tr style=\"text-align: right;\">\n      <th></th>\n      <th>geneSymbol</th>\n      <th>diseaseName</th>\n    </tr>\n  </thead>\n  <tbody>\n    <tr>\n      <th>35403</th>\n      <td>APP</td>\n      <td>dementia</td>\n    </tr>\n    <tr>\n      <th>35404</th>\n      <td>COL4A1</td>\n      <td>dementia</td>\n    </tr>\n    <tr>\n      <th>35405</th>\n      <td>CP</td>\n      <td>dementia</td>\n    </tr>\n    <tr>\n      <th>35406</th>\n      <td>CSF1R</td>\n      <td>dementia</td>\n    </tr>\n    <tr>\n      <th>35407</th>\n      <td>CST3</td>\n      <td>dementia</td>\n    </tr>\n    <tr>\n      <th>35408</th>\n      <td>DNMT1</td>\n      <td>dementia</td>\n    </tr>\n    <tr>\n      <th>35409</th>\n      <td>FUS</td>\n      <td>dementia</td>\n    </tr>\n    <tr>\n      <th>35410</th>\n      <td>GRN</td>\n      <td>dementia</td>\n    </tr>\n    <tr>\n      <th>35411</th>\n      <td>MAPT</td>\n      <td>dementia</td>\n    </tr>\n    <tr>\n      <th>35412</th>\n      <td>NOTCH3</td>\n      <td>dementia</td>\n    </tr>\n    <tr>\n      <th>35413</th>\n      <td>PRNP</td>\n      <td>dementia</td>\n    </tr>\n    <tr>\n      <th>35414</th>\n      <td>HTRA1</td>\n      <td>dementia</td>\n    </tr>\n    <tr>\n      <th>35415</th>\n      <td>PSEN2</td>\n      <td>dementia</td>\n    </tr>\n    <tr>\n      <th>35416</th>\n      <td>SLC6A3</td>\n      <td>dementia</td>\n    </tr>\n    <tr>\n      <th>35417</th>\n      <td>TYROBP</td>\n      <td>dementia</td>\n    </tr>\n    <tr>\n      <th>35418</th>\n      <td>SLC9A8</td>\n      <td>dementia</td>\n    </tr>\n    <tr>\n      <th>35419</th>\n      <td>TREM2</td>\n      <td>dementia</td>\n    </tr>\n  </tbody>\n</table>\n</div>"
     },
     "execution_count": 10,
     "metadata": {},
     "output_type": "execute_result"
    }
   ],
   "source": [
    "dmt"
   ],
   "metadata": {
    "collapsed": false,
    "ExecuteTime": {
     "end_time": "2023-12-07T11:58:59.615258Z",
     "start_time": "2023-12-07T11:58:59.603963Z"
    }
   },
   "id": "aae5cc05e0f1c72d"
  },
  {
   "cell_type": "code",
   "execution_count": 11,
   "outputs": [],
   "source": [
    "dmt_genes = list(dmt.geneSymbol.unique())"
   ],
   "metadata": {
    "collapsed": false,
    "ExecuteTime": {
     "end_time": "2023-12-07T11:59:21.381613Z",
     "start_time": "2023-12-07T11:59:21.367194Z"
    }
   },
   "id": "b555b34f2ccfc9e6"
  },
  {
   "cell_type": "code",
   "execution_count": 12,
   "outputs": [
    {
     "data": {
      "text/plain": "17"
     },
     "execution_count": 12,
     "metadata": {},
     "output_type": "execute_result"
    }
   ],
   "source": [
    "len(dmt_genes)"
   ],
   "metadata": {
    "collapsed": false,
    "ExecuteTime": {
     "end_time": "2023-12-07T11:59:22.002657Z",
     "start_time": "2023-12-07T11:59:21.990589Z"
    }
   },
   "id": "26f19d2cb853a261"
  },
  {
   "cell_type": "code",
   "execution_count": 13,
   "outputs": [],
   "source": [
    "gppi = nx.from_pandas_edgelist(ppi, 'Symbol_A', 'Symbol_B')\n",
    "\n",
    "# Removing self loops\n",
    "sl = nx.selfloop_edges(gppi)\n",
    "gppi.remove_edges_from(sl)"
   ],
   "metadata": {
    "collapsed": false,
    "ExecuteTime": {
     "end_time": "2023-12-07T11:59:23.081122Z",
     "start_time": "2023-12-07T11:59:22.899290Z"
    }
   },
   "id": "597fffe545781b73"
  },
  {
   "cell_type": "code",
   "execution_count": 14,
   "outputs": [],
   "source": [
    "# Find dementia genes in ppi\n",
    "dmt_genes_in_ppi = list()\n",
    "\n",
    "# Extract the disease module for Dementia\n",
    "for n in list(gppi.nodes):\n",
    "    if n in dmt_genes:\n",
    "        dmt_genes_in_ppi.append(n)"
   ],
   "metadata": {
    "collapsed": false,
    "ExecuteTime": {
     "end_time": "2023-12-07T11:59:23.683530Z",
     "start_time": "2023-12-07T11:59:23.673674Z"
    }
   },
   "id": "dceb702167a1279f"
  },
  {
   "cell_type": "code",
   "execution_count": 15,
   "outputs": [
    {
     "data": {
      "text/plain": "['GRN',\n 'HTRA1',\n 'DNMT1',\n 'APP',\n 'PSEN2',\n 'SLC6A3',\n 'CSF1R',\n 'PRNP',\n 'FUS',\n 'COL4A1',\n 'MAPT',\n 'NOTCH3',\n 'CP',\n 'CST3',\n 'TYROBP',\n 'SLC9A8',\n 'TREM2']"
     },
     "execution_count": 15,
     "metadata": {},
     "output_type": "execute_result"
    }
   ],
   "source": [
    "dmt_genes_in_ppi"
   ],
   "metadata": {
    "collapsed": false,
    "ExecuteTime": {
     "end_time": "2023-12-07T11:59:24.395781Z",
     "start_time": "2023-12-07T11:59:24.380562Z"
    }
   },
   "id": "e790a3e031eb3ef4"
  },
  {
   "cell_type": "code",
   "execution_count": 16,
   "outputs": [],
   "source": [
    "# Extract the subgraph (disease module) for Dementia\n",
    "dmt_module = gppi.subgraph(dmt_genes_in_ppi).copy()"
   ],
   "metadata": {
    "collapsed": false,
    "ExecuteTime": {
     "end_time": "2023-12-07T11:59:25.696219Z",
     "start_time": "2023-12-07T11:59:25.685734Z"
    }
   },
   "id": "fc7eb89d77173032"
  },
  {
   "cell_type": "code",
   "execution_count": 17,
   "outputs": [
    {
     "name": "stdout",
     "output_type": "stream",
     "text": [
      "Number of nodes (genes) in the Dementia disease module: 17\n",
      "Number of edges (interactions) in the Dementia disease module: 7\n"
     ]
    }
   ],
   "source": [
    "# Calculate the number of nodes (genes) in the Dementia disease module\n",
    "num_nodes = dmt_module.number_of_nodes()\n",
    "print(\"Number of nodes (genes) in the Dementia disease module:\", num_nodes)\n",
    "\n",
    "# Calculate the number of edges (interactions) in the Dementia disease module\n",
    "num_edges = dmt_module.number_of_edges()\n",
    "print(\"Number of edges (interactions) in the Dementia disease module:\", num_edges)"
   ],
   "metadata": {
    "collapsed": false,
    "ExecuteTime": {
     "end_time": "2023-12-07T11:59:26.154272Z",
     "start_time": "2023-12-07T11:59:26.146396Z"
    }
   },
   "id": "a58dcdf55cb48b07"
  },
  {
   "cell_type": "code",
   "execution_count": 18,
   "outputs": [
    {
     "data": {
      "text/plain": "<Figure size 640x480 with 1 Axes>",
      "image/png": "[encoded data removed]"
     },
     "metadata": {},
     "output_type": "display_data"
    }
   ],
   "source": [
    "pos = nx.spring_layout(dmt_module)  # positions for all nodes\n",
    "\n",
    "# Nodes\n",
    "nx.draw_networkx_nodes(dmt_module, pos, node_size=700)\n",
    "\n",
    "# Edges\n",
    "nx.draw_networkx_edges(dmt_module, pos, width=1.0, alpha=0.5)\n",
    "\n",
    "# Labels\n",
    "nx.draw_networkx_labels(dmt_module, pos, font_size=12)\n",
    "\n",
    "plt.title('Dementia Disease Module Network')\n",
    "plt.axis('off')\n",
    "plt.show()"
   ],
   "metadata": {
    "collapsed": false,
    "ExecuteTime": {
     "end_time": "2023-12-07T11:59:27.641320Z",
     "start_time": "2023-12-07T11:59:27.560148Z"
    }
   },
   "id": "86967dfd49b6d74d"
  },
  {
   "cell_type": "code",
   "execution_count": 22,
   "outputs": [],
   "source": [
    "# Use the localization module for LCC and random comparison\n",
    "lcc = localization.get_lcc(gppi, dmt_genes_in_ppi)\n",
    "sig_dict = localization.get_random_comparison(gppi, dmt_genes_in_ppi, 1000)"
   ],
   "metadata": {
    "collapsed": false,
    "ExecuteTime": {
     "end_time": "2023-12-07T11:59:36.878210Z",
     "start_time": "2023-12-07T11:59:36.801428Z"
    }
   },
   "id": "b1ca81811c2ef072"
  },
  {
   "cell_type": "code",
   "execution_count": 23,
   "outputs": [
    {
     "name": "stdout",
     "output_type": "stream",
     "text": [
      "Mean:  1.252\n",
      "Std:  0.5200922995007713\n",
      "z-score:  9.129148815618946\n",
      "p-value:  0.0\n"
     ]
    }
   ],
   "source": [
    "random_lcc = sig_dict['LCC_list']\n",
    "\n",
    "print('Mean: ',sig_dict['mean'])\n",
    "\n",
    "print('Std: ',sig_dict['std'])\n",
    "\n",
    "print('z-score: ',sig_dict['z_score'])\n",
    "\n",
    "print('p-value: ',sig_dict['p_value'])"
   ],
   "metadata": {
    "collapsed": false,
    "ExecuteTime": {
     "end_time": "2023-12-07T11:59:37.595197Z",
     "start_time": "2023-12-07T11:59:37.585850Z"
    }
   },
   "id": "c3f8b49eab21c716"
  },
  {
   "cell_type": "code",
   "execution_count": 24,
   "outputs": [
    {
     "data": {
      "text/plain": "<Figure size 640x480 with 1 Axes>",
      "image/png": "[encoded data removed]"
     },
     "metadata": {},
     "output_type": "display_data"
    }
   ],
   "source": [
    "sns.histplot(data=random_lcc,\n",
    "             bins=10)\n",
    "\n",
    "plt.axvline(len(lcc), color='r')\n",
    "\n",
    "plt.xlim(0, 10)\n",
    "plt.tight_layout()\n",
    "plt.show()"
   ],
   "metadata": {
    "collapsed": false,
    "ExecuteTime": {
     "end_time": "2023-12-07T11:59:38.714856Z",
     "start_time": "2023-12-07T11:59:38.632659Z"
    }
   },
   "id": "46c3de2b116867a2"
  },
  {
   "cell_type": "code",
   "execution_count": 27,
   "outputs": [],
   "source": [
    "sig_dp_dict = localization.get_random_comparison(gppi, dmt_genes_in_ppi, 1000, degree_preserving=True)"
   ],
   "metadata": {
    "collapsed": false,
    "ExecuteTime": {
     "end_time": "2023-12-07T12:00:28.154175Z",
     "start_time": "2023-12-07T12:00:27.923955Z"
    }
   },
   "id": "9b415850c9b3b4d2"
  },
  {
   "cell_type": "code",
   "execution_count": 28,
   "outputs": [
    {
     "name": "stdout",
     "output_type": "stream",
     "text": [
      "Mean:  2.152\n",
      "Std:  0.8619141488570657\n",
      "z-score:  4.464481764341158\n",
      "p-value:  8.026278391914943e-06\n"
     ]
    }
   ],
   "source": [
    "random_dp_lcc = sig_dp_dict['LCC_list']\n",
    "\n",
    "print('Mean: ',sig_dp_dict['mean'])\n",
    "\n",
    "print('Std: ',sig_dp_dict['std'])\n",
    "\n",
    "print('z-score: ',sig_dp_dict['z_score'])\n",
    "\n",
    "print('p-value: ',sig_dp_dict['p_value'])"
   ],
   "metadata": {
    "collapsed": false,
    "ExecuteTime": {
     "end_time": "2023-12-07T12:00:29.972838Z",
     "start_time": "2023-12-07T12:00:29.962428Z"
    }
   },
   "id": "4b5514038c8974e1"
  },
  {
   "cell_type": "code",
   "execution_count": 29,
   "outputs": [
    {
     "data": {
      "text/plain": "<Figure size 640x480 with 1 Axes>",
      "image/png": "[encoded data removed]"
     },
     "metadata": {},
     "output_type": "display_data"
    }
   ],
   "source": [
    "sns.histplot(data=random_dp_lcc,\n",
    "             bins=10)\n",
    "\n",
    "plt.axvline(len(lcc), color='r')\n",
    "\n",
    "plt.xlim(0, 10)\n",
    "plt.tight_layout()\n",
    "plt.show()"
   ],
   "metadata": {
    "collapsed": false,
    "ExecuteTime": {
     "end_time": "2023-12-07T12:00:32.124980Z",
     "start_time": "2023-12-07T12:00:32.040915Z"
    }
   },
   "id": "fffd47f7f07679af"
  }
 ],
 "metadata": {
  "kernelspec": {
   "display_name": "Python 3",
   "language": "python",
   "name": "python3"
  },
  "language_info": {
   "codemirror_mode": {
    "name": "ipython",
    "version": 2
   },
   "file_extension": ".py",
   "mimetype": "text/x-python",
   "name": "python",
   "nbconvert_exporter": "python",
   "pygments_lexer": "ipython2",
   "version": "2.7.6"
  }
 },
 "nbformat": 4,
 "nbformat_minor": 5
}
